{
 "cells": [
  {
   "cell_type": "code",
   "execution_count": null,
   "id": "b8bb4ad2-2c00-4900-a460-f46dd8b34c90",
   "metadata": {},
   "outputs": [],
   "source": [
    "#single line comment in python is just a hashtag before it\n"
   ]
  },
  {
   "cell_type": "code",
   "execution_count": null,
   "id": "0ae0d65d-8a6b-423a-a761-b9035f06d5e1",
   "metadata": {},
   "outputs": [],
   "source": [
    "\"\"\"\n",
    "multi \n",
    "line \n",
    "commenting\n",
    "\"\"\""
   ]
  },
  {
   "cell_type": "code",
   "execution_count": null,
   "id": "f4c2dd2c-9ffa-4c23-81f2-87c695c8897e",
   "metadata": {},
   "outputs": [],
   "source": [
    "import pandas as pd\n",
    "\n",
    "# to make this markdown, just select markdown from code dropbown above\n"
   ]
  },
  {
   "cell_type": "code",
   "execution_count": null,
   "id": "e5807d1f-a742-41e0-a6ae-918d9d22d7bc",
   "metadata": {},
   "outputs": [],
   "source": [
    "'''\n",
    "to run ur code \n",
    "cntrl + enter,\n",
    "shift + enter\n",
    "'''\n"
   ]
  },
  {
   "cell_type": "markdown",
   "id": "e4591483-de2f-4b5a-99d4-ce53b8d5513a",
   "metadata": {},
   "source": [
    "# how to print"
   ]
  },
  {
   "cell_type": "code",
   "execution_count": 12,
   "id": "a57f1a08-5663-4c49-ad9c-bef1e9fad2f7",
   "metadata": {},
   "outputs": [],
   "source": [
    "y=7\n",
    "z=8"
   ]
  },
  {
   "cell_type": "code",
   "execution_count": 14,
   "id": "b0376f1b-264c-4407-991b-fe611a762be5",
   "metadata": {},
   "outputs": [
    {
     "data": {
      "text/plain": [
       "12750"
      ]
     },
     "execution_count": 14,
     "metadata": {},
     "output_type": "execute_result"
    }
   ],
   "source": [
    "planet=\"earth\" # planet is a variable to hold string value\n",
    "diameter=12742 # diameter is a variable to hold integer value"
   ]
  },
  {
   "cell_type": "code",
   "execution_count": 16,
   "id": "5e19742a-f49f-416a-8761-4a060352ec42",
   "metadata": {},
   "outputs": [
    {
     "data": {
      "text/plain": [
       "12742"
      ]
     },
     "execution_count": 16,
     "metadata": {},
     "output_type": "execute_result"
    }
   ],
   "source": [
    "diameter"
   ]
  },
  {
   "cell_type": "code",
   "execution_count": 18,
   "id": "73bcdc57-f29a-49b1-9b4e-cfdbdc8f4415",
   "metadata": {},
   "outputs": [
    {
     "name": "stdout",
     "output_type": "stream",
     "text": [
      "12742\n"
     ]
    }
   ],
   "source": [
    "print(diameter)\n"
   ]
  },
  {
   "cell_type": "code",
   "execution_count": 20,
   "id": "1bdb86f0-cab5-462e-8715-4f9b9cc21dfc",
   "metadata": {},
   "outputs": [
    {
     "data": {
      "text/plain": [
       "int"
      ]
     },
     "execution_count": 20,
     "metadata": {},
     "output_type": "execute_result"
    }
   ],
   "source": [
    "type(diameter) #int is integer\n"
   ]
  },
  {
   "cell_type": "code",
   "execution_count": 22,
   "id": "07ebd829-dbbb-4f43-9056-e880e314e4bb",
   "metadata": {},
   "outputs": [
    {
     "data": {
      "text/plain": [
       "str"
      ]
     },
     "execution_count": 22,
     "metadata": {},
     "output_type": "execute_result"
    }
   ],
   "source": [
    "type(planet) #str is string or txt"
   ]
  },
  {
   "cell_type": "code",
   "execution_count": 24,
   "id": "6630bde8-ea5e-4521-9211-8a70f6c53591",
   "metadata": {},
   "outputs": [
    {
     "data": {
      "text/plain": [
       "'earth'"
      ]
     },
     "execution_count": 24,
     "metadata": {},
     "output_type": "execute_result"
    }
   ],
   "source": [
    "planet\n"
   ]
  },
  {
   "cell_type": "code",
   "execution_count": 26,
   "id": "aa4efd61-0c2e-476a-a382-6c5880c04109",
   "metadata": {},
   "outputs": [
    {
     "name": "stdout",
     "output_type": "stream",
     "text": [
      "earth\n"
     ]
    }
   ],
   "source": [
    "print(planet)"
   ]
  },
  {
   "cell_type": "code",
   "execution_count": 32,
   "id": "8fe7563f-5b03-4edd-9335-3854c0ec2ab5",
   "metadata": {},
   "outputs": [
    {
     "name": "stdout",
     "output_type": "stream",
     "text": [
      "the diameter of earth is 12742\n"
     ]
    }
   ],
   "source": [
    "print(\"the diameter of {variable1} is {variable2}\".format(variable1 = planet,variable2 = diameter)) # . format of printing"
   ]
  },
  {
   "cell_type": "code",
   "execution_count": 36,
   "id": "90ce6b30-032d-4a81-9fe8-fc66250c139f",
   "metadata": {},
   "outputs": [
    {
     "name": "stdout",
     "output_type": "stream",
     "text": [
      "the diameter of earth is 12742\n"
     ]
    }
   ],
   "source": [
    "# second way of printing\n",
    "# + format\n",
    "print(\"the diameter of \" + planet + \" is \" +str(diameter))"
   ]
  },
  {
   "cell_type": "code",
   "execution_count": 40,
   "id": "a2cadb7b-3209-493c-b785-17a7ffaadf05",
   "metadata": {},
   "outputs": [
    {
     "name": "stdout",
     "output_type": "stream",
     "text": [
      "the diameter of earth is 12742\n"
     ]
    }
   ],
   "source": [
    "print(\"the diameter of \" + planet + \" is \" + str(diameter))\n",
    "\n",
    "#cant write print(\"the diameter of \" + planet + \" is \" + diameter) ie only concatenate str(not \"int\") "
   ]
  },
  {
   "cell_type": "code",
   "execution_count": null,
   "id": "2120b1f4-eb08-4b88-b711-d1488ba83baf",
   "metadata": {},
   "outputs": [],
   "source": [
    "# shift + 9"
   ]
  },
  {
   "cell_type": "code",
   "execution_count": 42,
   "id": "7f79c812-68bc-4e02-940c-5946ae8458db",
   "metadata": {},
   "outputs": [
    {
     "name": "stdout",
     "output_type": "stream",
     "text": [
      "the diameter of earth is 12742\n"
     ]
    }
   ],
   "source": [
    "print(f\"the diameter of {planet} is {diameter}\") #best way to print, not needed +, just add f- string, all variables must be inside { }"
   ]
  },
  {
   "cell_type": "markdown",
   "id": "367cd3a5-27a4-4f8d-b9b5-67c80e6d0820",
   "metadata": {},
   "source": [
    "data types "
   ]
  },
  {
   "cell_type": "code",
   "execution_count": null,
   "id": "2825ea22-784c-4c0b-9bf2-9db6d681d893",
   "metadata": {},
   "outputs": [],
   "source": [
    "'''\n",
    "numerical: int,float\n",
    "boolean: bool               true or false\n",
    "set: set                    set()  {}  {set cannot have duplicates}  {sets only contains the values,not the keys}\n",
    "string/text:str             str()   ''     \"\"\n",
    "tuple: tuple                tuple()   ()\n",
    "list: list                  list()    []\n",
    "dictionary: dict            dict()    {\"key\":\"value\"}\n",
    "\n",
    "\n",
    "\n",
    "some notes:\n",
    "sets cannot have duplications.\n",
    "tuple cannot be mutated.\n",
    "list can contain mix data types and can be mutated.\n",
    "dictionary is also called key-value pair, or in javascript, it is called object.\n",
    "json is another key-value pair example.\n",
    "\n",
    "\n",
    "'''"
   ]
  },
  {
   "cell_type": "markdown",
   "id": "cf8121f2-6eb7-4289-a2d6-2c1d92ab10e1",
   "metadata": {},
   "source": [
    "### numerical"
   ]
  },
  {
   "cell_type": "code",
   "execution_count": 46,
   "id": "4686bd37-10ad-4991-a460-371a2def6b04",
   "metadata": {},
   "outputs": [],
   "source": [
    "a=5\n"
   ]
  },
  {
   "cell_type": "code",
   "execution_count": 48,
   "id": "98a12190-b79c-4023-8e47-89dde973a688",
   "metadata": {},
   "outputs": [
    {
     "data": {
      "text/plain": [
       "int"
      ]
     },
     "execution_count": 48,
     "metadata": {},
     "output_type": "execute_result"
    }
   ],
   "source": [
    "type(a)\n"
   ]
  },
  {
   "cell_type": "code",
   "execution_count": 50,
   "id": "d58c4124-ca49-4a9b-b13f-f9069071b28e",
   "metadata": {},
   "outputs": [],
   "source": [
    "b=5.8"
   ]
  },
  {
   "cell_type": "markdown",
   "id": "eeffa025-e13b-4c7d-a2c1-f4261e35f773",
   "metadata": {},
   "source": [
    "type(b)"
   ]
  },
  {
   "cell_type": "code",
   "execution_count": 56,
   "id": "eb950a5d-f7b9-47ba-b573-9cc2509af1a1",
   "metadata": {},
   "outputs": [
    {
     "data": {
      "text/plain": [
       "float"
      ]
     },
     "execution_count": 56,
     "metadata": {},
     "output_type": "execute_result"
    }
   ],
   "source": [
    "type(b)"
   ]
  },
  {
   "cell_type": "code",
   "execution_count": 58,
   "id": "878de621-da84-45d9-ac1f-e6d9205ea1e1",
   "metadata": {},
   "outputs": [
    {
     "data": {
      "text/plain": [
       "5"
      ]
     },
     "execution_count": 58,
     "metadata": {},
     "output_type": "execute_result"
    }
   ],
   "source": [
    "int(b) #convert float to integer "
   ]
  },
  {
   "cell_type": "code",
   "execution_count": 60,
   "id": "aede98fc-a70c-4230-8667-fc9c71b46de5",
   "metadata": {},
   "outputs": [
    {
     "data": {
      "text/plain": [
       "5.0"
      ]
     },
     "execution_count": 60,
     "metadata": {},
     "output_type": "execute_result"
    }
   ],
   "source": [
    "float(a) #convaert integer to float ,decimal"
   ]
  },
  {
   "cell_type": "markdown",
   "id": "5ac7bfc5-1ccb-4aaa-85c4-10012e15d7d1",
   "metadata": {},
   "source": [
    "boolean"
   ]
  },
  {
   "cell_type": "code",
   "execution_count": 65,
   "id": "2bfe353d-65ba-4bfa-ae57-68d8d0ce310f",
   "metadata": {},
   "outputs": [],
   "source": [
    "c = False\n",
    "d = True\n"
   ]
  },
  {
   "cell_type": "code",
   "execution_count": 67,
   "id": "87fb27cc-07a3-4653-b18e-222048138187",
   "metadata": {},
   "outputs": [
    {
     "data": {
      "text/plain": [
       "bool"
      ]
     },
     "execution_count": 67,
     "metadata": {},
     "output_type": "execute_result"
    }
   ],
   "source": [
    "type(c)"
   ]
  },
  {
   "cell_type": "markdown",
   "id": "bf747b66-87a5-4c58-81ae-0282384f8559",
   "metadata": {},
   "source": [
    "sets "
   ]
  },
  {
   "cell_type": "code",
   "execution_count": 82,
   "id": "753604d4-a457-42b5-8be2-24e5a9848a67",
   "metadata": {},
   "outputs": [],
   "source": [
    "my_set = {1,2,3,4,4,5,1,2, \"a\", \"b\",\"c\", \"a\",7,a,b,c,d}\n",
    "#my_set = {0,1,2,3,4,4,5,1,2, \"a\", \"b\",\"c\", \"a\",7,a,b,c,d} then  (0,1,2,3,4,4,5,"
   ]
  },
  {
   "cell_type": "code",
   "execution_count": 74,
   "id": "f3743e7c-73aa-487a-ac56-fbc48c320710",
   "metadata": {},
   "outputs": [
    {
     "data": {
      "text/plain": [
       "set"
      ]
     },
     "execution_count": 74,
     "metadata": {},
     "output_type": "execute_result"
    }
   ],
   "source": [
    "type(my_set)\n"
   ]
  },
  {
   "cell_type": "code",
   "execution_count": 76,
   "id": "60e82e88-7be3-4966-8121-961156e71708",
   "metadata": {},
   "outputs": [
    {
     "data": {
      "text/plain": [
       "{1, 2, 3, 4, 5, 5.8, 7, False, 'a', 'b', 'c'}"
      ]
     },
     "execution_count": 76,
     "metadata": {},
     "output_type": "execute_result"
    }
   ],
   "source": [
    "my_set"
   ]
  },
  {
   "cell_type": "code",
   "execution_count": null,
   "id": "cfe11d0b-f8f2-4347-b2bc-8b268d7859a9",
   "metadata": {},
   "outputs": [],
   "source": [
    "#value of d is true\n"
   ]
  },
  {
   "cell_type": "code",
   "execution_count": 78,
   "id": "bc6f22f9-f1fe-4d98-bfb8-4181dda14481",
   "metadata": {},
   "outputs": [
    {
     "data": {
      "text/plain": [
       "4346044176"
      ]
     },
     "execution_count": 78,
     "metadata": {},
     "output_type": "execute_result"
    }
   ],
   "source": [
    "id(hash(d))"
   ]
  },
  {
   "cell_type": "code",
   "execution_count": 80,
   "id": "b12a83da-98f0-4939-a1af-694c1a42091c",
   "metadata": {},
   "outputs": [
    {
     "data": {
      "text/plain": [
       "4346044176"
      ]
     },
     "execution_count": 80,
     "metadata": {},
     "output_type": "execute_result"
    }
   ],
   "source": [
    "id(hash(1))"
   ]
  },
  {
   "cell_type": "code",
   "execution_count": 88,
   "id": "a4ab8596-6525-402f-9aca-29a206bcbb27",
   "metadata": {},
   "outputs": [],
   "source": [
    "my_set.add(\"tiya\")"
   ]
  },
  {
   "cell_type": "code",
   "execution_count": 90,
   "id": "b32c50f5-d524-41eb-a502-b1d478f82e58",
   "metadata": {},
   "outputs": [
    {
     "data": {
      "text/plain": [
       "{1, 2, 3, 4, 5, 5.8, 7, False, 'a', 'b', 'c', 'tiya'}"
      ]
     },
     "execution_count": 90,
     "metadata": {},
     "output_type": "execute_result"
    }
   ],
   "source": [
    "my_set"
   ]
  },
  {
   "cell_type": "code",
   "execution_count": 94,
   "id": "25e6609f-41d6-4a67-94ec-82024270f15d",
   "metadata": {},
   "outputs": [
    {
     "data": {
      "text/plain": [
       "1"
      ]
     },
     "execution_count": 94,
     "metadata": {},
     "output_type": "execute_result"
    }
   ],
   "source": [
    "my_set.pop()"
   ]
  },
  {
   "cell_type": "code",
   "execution_count": 96,
   "id": "a508488b-c3a2-4e4f-be56-cc7d077ffb9d",
   "metadata": {},
   "outputs": [
    {
     "data": {
      "text/plain": [
       "{2, 3, 4, 5, 5.8, 7, 'a', 'b', 'c', 'tiya'}"
      ]
     },
     "execution_count": 96,
     "metadata": {},
     "output_type": "execute_result"
    }
   ],
   "source": [
    "my_set"
   ]
  },
  {
   "cell_type": "code",
   "execution_count": 98,
   "id": "205275c4-d6ec-49a3-847a-1069979f51c7",
   "metadata": {},
   "outputs": [],
   "source": [
    "my_set.remove(\"tiya\")"
   ]
  },
  {
   "cell_type": "code",
   "execution_count": 100,
   "id": "b5653b9e-d517-43af-bb85-549b19fd03f0",
   "metadata": {},
   "outputs": [
    {
     "data": {
      "text/plain": [
       "{2, 3, 4, 5, 5.8, 7, 'a', 'b', 'c'}"
      ]
     },
     "execution_count": 100,
     "metadata": {},
     "output_type": "execute_result"
    }
   ],
   "source": [
    "my_set"
   ]
  },
  {
   "cell_type": "code",
   "execution_count": 102,
   "id": "4e17ae66-53ad-42e2-8101-0ff1b3a4178c",
   "metadata": {},
   "outputs": [],
   "source": [
    "my_set2={1,2,\"k\",\"l\",\"o\"}"
   ]
  },
  {
   "cell_type": "code",
   "execution_count": 108,
   "id": "a9e7cee9-2b35-4d48-8844-53e0d8cb7310",
   "metadata": {},
   "outputs": [],
   "source": [
    "new_set = my_set.intersection(my_set2)"
   ]
  },
  {
   "cell_type": "code",
   "execution_count": 110,
   "id": "57577cbb-7213-4305-8b8c-95d4fbb43ab4",
   "metadata": {},
   "outputs": [
    {
     "data": {
      "text/plain": [
       "{2}"
      ]
     },
     "execution_count": 110,
     "metadata": {},
     "output_type": "execute_result"
    }
   ],
   "source": [
    "new_set"
   ]
  },
  {
   "cell_type": "code",
   "execution_count": 118,
   "id": "1402fd15-d744-40de-a0bb-e90fd823c7c1",
   "metadata": {},
   "outputs": [
    {
     "data": {
      "text/plain": [
       "{2, 3, 4, 5, 5.8, 7, 'a', 'b', 'c'}"
      ]
     },
     "execution_count": 118,
     "metadata": {},
     "output_type": "execute_result"
    }
   ],
   "source": [
    "my_set"
   ]
  },
  {
   "cell_type": "markdown",
   "id": "77575491-f8dc-4a3c-b369-05c69ea1e5c1",
   "metadata": {},
   "source": [
    "tuple"
   ]
  },
  {
   "cell_type": "code",
   "execution_count": 121,
   "id": "49106bd0-060f-4aed-a9a7-ebc80174a38d",
   "metadata": {},
   "outputs": [],
   "source": [
    "my_tuple = (0,1,2,3,4,4,5,1,2,\"a\",\"b\",\"c\",\"a\",7,a,b,c,d)"
   ]
  },
  {
   "cell_type": "code",
   "execution_count": 123,
   "id": "89719e96-2bb7-4f0a-ba30-6dd82cca204e",
   "metadata": {},
   "outputs": [
    {
     "data": {
      "text/plain": [
       "(0, 1, 2, 3, 4, 4, 5, 1, 2, 'a', 'b', 'c', 'a', 7, 5, 5.8, False, True)"
      ]
     },
     "execution_count": 123,
     "metadata": {},
     "output_type": "execute_result"
    }
   ],
   "source": [
    "my_tuple"
   ]
  },
  {
   "cell_type": "code",
   "execution_count": 125,
   "id": "00470f10-8f57-4d14-84eb-e90ecd715435",
   "metadata": {},
   "outputs": [
    {
     "data": {
      "text/plain": [
       "'b'"
      ]
     },
     "execution_count": 125,
     "metadata": {},
     "output_type": "execute_result"
    }
   ],
   "source": [
    "my_tuple[10]"
   ]
  },
  {
   "cell_type": "code",
   "execution_count": 127,
   "id": "3e626ad2-5df5-4a13-92af-8f64c1003b03",
   "metadata": {},
   "outputs": [
    {
     "data": {
      "text/plain": [
       "3"
      ]
     },
     "execution_count": 127,
     "metadata": {},
     "output_type": "execute_result"
    }
   ],
   "source": [
    "my_tuple.count(1) #howmany times 1 1 ,1,and true is 1"
   ]
  },
  {
   "cell_type": "code",
   "execution_count": 129,
   "id": "2790b3fd-5abe-4ecc-a1d4-928158da983d",
   "metadata": {},
   "outputs": [
    {
     "data": {
      "text/plain": [
       "9"
      ]
     },
     "execution_count": 129,
     "metadata": {},
     "output_type": "execute_result"
    }
   ],
   "source": [
    "my_tuple.index(\"a\") #index location of a returns"
   ]
  },
  {
   "cell_type": "code",
   "execution_count": 133,
   "id": "7dd4e183-5196-40b9-ab8d-e3085cbff1ee",
   "metadata": {},
   "outputs": [],
   "source": [
    "my_tuple2 = my_tuple + (\"tiya\" , \"charli\" , 999)"
   ]
  },
  {
   "cell_type": "code",
   "execution_count": 135,
   "id": "cfa73fd6-33ca-4c43-b1b9-4c5272437b4b",
   "metadata": {},
   "outputs": [
    {
     "data": {
      "text/plain": [
       "(0,\n",
       " 1,\n",
       " 2,\n",
       " 3,\n",
       " 4,\n",
       " 4,\n",
       " 5,\n",
       " 1,\n",
       " 2,\n",
       " 'a',\n",
       " 'b',\n",
       " 'c',\n",
       " 'a',\n",
       " 7,\n",
       " 5,\n",
       " 5.8,\n",
       " False,\n",
       " True,\n",
       " 'tiya',\n",
       " 'charli',\n",
       " 999)"
      ]
     },
     "execution_count": 135,
     "metadata": {},
     "output_type": "execute_result"
    }
   ],
   "source": [
    "my_tuple2 #vertical printing"
   ]
  },
  {
   "cell_type": "code",
   "execution_count": 137,
   "id": "80d5d841-2d34-43f2-b5d1-139f6ef776c5",
   "metadata": {},
   "outputs": [
    {
     "name": "stdout",
     "output_type": "stream",
     "text": [
      "(0, 1, 2, 3, 4, 4, 5, 1, 2, 'a', 'b', 'c', 'a', 7, 5, 5.8, False, True, 'tiya', 'charli', 999)\n"
     ]
    }
   ],
   "source": [
    "print (my_tuple2) #horizontal printing"
   ]
  },
  {
   "cell_type": "code",
   "execution_count": 147,
   "id": "1ddbf4cd-3213-43d5-809a-c7323bc9c30c",
   "metadata": {},
   "outputs": [],
   "source": [
    "my_str = \"   python IS nice: % ^ @ 1 2 3  i like it  \""
   ]
  },
  {
   "cell_type": "code",
   "execution_count": 149,
   "id": "4b688d17-b1c9-4082-a70a-940bf5a77142",
   "metadata": {},
   "outputs": [
    {
     "data": {
      "text/plain": [
       "str"
      ]
     },
     "execution_count": 149,
     "metadata": {},
     "output_type": "execute_result"
    }
   ],
   "source": [
    "type(my_str)"
   ]
  },
  {
   "cell_type": "code",
   "execution_count": 151,
   "id": "542da8cb-1489-4bd5-b9d1-363b5d804f4a",
   "metadata": {},
   "outputs": [
    {
     "data": {
      "text/plain": [
       "' '"
      ]
     },
     "execution_count": 151,
     "metadata": {},
     "output_type": "execute_result"
    }
   ],
   "source": [
    "my_str[0]"
   ]
  },
  {
   "cell_type": "code",
   "execution_count": 153,
   "id": "9b26910e-3500-4a6e-9279-0455cd4ae5ba",
   "metadata": {},
   "outputs": [
    {
     "data": {
      "text/plain": [
       "'p'"
      ]
     },
     "execution_count": 153,
     "metadata": {},
     "output_type": "execute_result"
    }
   ],
   "source": [
    "my_str[3]"
   ]
  },
  {
   "cell_type": "code",
   "execution_count": 155,
   "id": "22bd489e-3ca2-4ce6-9011-2e4021a7b3ce",
   "metadata": {},
   "outputs": [
    {
     "data": {
      "text/plain": [
       "'   python is nice: % ^ @ 1 2 3  i like it  '"
      ]
     },
     "execution_count": 155,
     "metadata": {},
     "output_type": "execute_result"
    }
   ],
   "source": [
    "my_str.capitalize()"
   ]
  },
  {
   "cell_type": "code",
   "execution_count": 157,
   "id": "1ce8897a-bc1c-4a8d-a18d-0d59f634b46c",
   "metadata": {},
   "outputs": [
    {
     "data": {
      "text/plain": [
       "'   python IS nick: % ^ @ 1 2 3  i likk it  '"
      ]
     },
     "execution_count": 157,
     "metadata": {},
     "output_type": "execute_result"
    }
   ],
   "source": [
    "my_str.replace(\"e\",\"k\")"
   ]
  },
  {
   "cell_type": "code",
   "execution_count": null,
   "id": "33a6141c-3166-4cc4-bc58-da067955c479",
   "metadata": {},
   "outputs": [],
   "source": []
  },
  {
   "cell_type": "code",
   "execution_count": 159,
   "id": "33fe1a2c-9ae3-4a8f-ad78-0d343fb991fe",
   "metadata": {},
   "outputs": [
    {
     "data": {
      "text/plain": [
       "'pythonISnice:%^@123ilikeit'"
      ]
     },
     "execution_count": 159,
     "metadata": {},
     "output_type": "execute_result"
    }
   ],
   "source": [
    "my_str.replace(\" \",\"\") #single place replace with no space"
   ]
  },
  {
   "cell_type": "code",
   "execution_count": 161,
   "id": "f7bcdd70-27a7-4421-90a3-b673899297eb",
   "metadata": {},
   "outputs": [
    {
     "data": {
      "text/plain": [
       "' python IS nice: % ^ @ 1 2 3i like it'"
      ]
     },
     "execution_count": 161,
     "metadata": {},
     "output_type": "execute_result"
    }
   ],
   "source": [
    "my_str.replace(\"  \",\"\") #double spcae replace with no space"
   ]
  },
  {
   "cell_type": "code",
   "execution_count": 163,
   "id": "cfe32b2f-ff90-43e6-a020-809eb3e6e546",
   "metadata": {},
   "outputs": [
    {
     "data": {
      "text/plain": [
       "'   PYTHON IS NICE: % ^ @ 1 2 3  I LIKE IT  '"
      ]
     },
     "execution_count": 163,
     "metadata": {},
     "output_type": "execute_result"
    }
   ],
   "source": [
    "my_str.upper()\n",
    "''' some functions are inplace =true by default\n",
    "ie changes happend in the original\n",
    "inplace=true is like u assign the result back to itself\n",
    "'''"
   ]
  },
  {
   "cell_type": "code",
   "execution_count": 165,
   "id": "2aee0a02-7267-4bc7-abe7-751152ff3098",
   "metadata": {},
   "outputs": [
    {
     "data": {
      "text/plain": [
       "'   python is nice: % ^ @ 1 2 3  i like it  '"
      ]
     },
     "execution_count": 165,
     "metadata": {},
     "output_type": "execute_result"
    }
   ],
   "source": [
    "my_str.lower()"
   ]
  },
  {
   "cell_type": "code",
   "execution_count": null,
   "id": "f2ea37c7-949a-4772-b9da-74af08171166",
   "metadata": {},
   "outputs": [],
   "source": []
  },
  {
   "cell_type": "code",
   "execution_count": null,
   "id": "0f4346d6-fe56-4dc1-8aec-5c248de1ecb0",
   "metadata": {},
   "outputs": [],
   "source": []
  },
  {
   "cell_type": "code",
   "execution_count": 173,
   "id": "5bcb1117-090e-4785-b082-bbfb94eaed7d",
   "metadata": {},
   "outputs": [
    {
     "data": {
      "text/plain": [
       "['python', 'IS', 'nice:', '%', '^', '@', '1', '2', '3', 'i', 'like', 'it']"
      ]
     },
     "execution_count": 173,
     "metadata": {},
     "output_type": "execute_result"
    }
   ],
   "source": [
    "my_str.split()\n"
   ]
  },
  {
   "cell_type": "code",
   "execution_count": null,
   "id": "1d9339b0-c356-4568-8797-8caea6128a6b",
   "metadata": {},
   "outputs": [],
   "source": []
  },
  {
   "cell_type": "code",
   "execution_count": null,
   "id": "d444dda7-dde4-4759-9bdc-4124bdba475e",
   "metadata": {},
   "outputs": [],
   "source": []
  },
  {
   "cell_type": "code",
   "execution_count": null,
   "id": "132c2bfc-02c6-41eb-80b3-99df949bb37d",
   "metadata": {},
   "outputs": [],
   "source": []
  },
  {
   "cell_type": "code",
   "execution_count": null,
   "id": "376d9ad3-2583-4b48-b0b6-bec30efe7067",
   "metadata": {},
   "outputs": [],
   "source": []
  },
  {
   "cell_type": "code",
   "execution_count": null,
   "id": "24b953eb-7355-438d-bf06-f7edae4fa4a3",
   "metadata": {},
   "outputs": [],
   "source": []
  },
  {
   "cell_type": "code",
   "execution_count": null,
   "id": "1213ba27-d07b-4141-b050-9b57c269b147",
   "metadata": {},
   "outputs": [],
   "source": []
  },
  {
   "cell_type": "code",
   "execution_count": 169,
   "id": "9277c2ce-d511-4840-b34b-ed7576c0bb27",
   "metadata": {},
   "outputs": [
    {
     "data": {
      "text/plain": [
       "['   python IS nice', ' % ^ @ 1 2 3  i like it  ']"
      ]
     },
     "execution_count": 169,
     "metadata": {},
     "output_type": "execute_result"
    }
   ],
   "source": [
    "my_str.split(\":\") #split by :"
   ]
  },
  {
   "cell_type": "code",
   "execution_count": 175,
   "id": "54b4ccdd-f3e4-4890-849e-03bd634870ce",
   "metadata": {},
   "outputs": [
    {
     "data": {
      "text/plain": [
       "8"
      ]
     },
     "execution_count": 175,
     "metadata": {},
     "output_type": "execute_result"
    }
   ],
   "source": [
    "my_str.find(\"n\")"
   ]
  },
  {
   "cell_type": "code",
   "execution_count": 177,
   "id": "c380d28e-8c1d-47c9-a1fd-89c7a138293a",
   "metadata": {},
   "outputs": [
    {
     "data": {
      "text/plain": [
       "'python IS nice: % ^ @ 1 2 3  i like it'"
      ]
     },
     "execution_count": 177,
     "metadata": {},
     "output_type": "execute_result"
    }
   ],
   "source": [
    "my_str.strip() #strip space from front and back"
   ]
  },
  {
   "cell_type": "code",
   "execution_count": 179,
   "id": "2e57cfaf-e757-4e28-be63-309c47a6864e",
   "metadata": {},
   "outputs": [
    {
     "data": {
      "text/plain": [
       "'   python IS nice: % ^ @ 1 2 3  i like it'"
      ]
     },
     "execution_count": 179,
     "metadata": {},
     "output_type": "execute_result"
    }
   ],
   "source": [
    "my_str.rstrip()"
   ]
  },
  {
   "cell_type": "code",
   "execution_count": 183,
   "id": "39aa590e-eadb-42df-9601-71704de46a79",
   "metadata": {},
   "outputs": [
    {
     "data": {
      "text/plain": [
       "'python IS nice: % ^ @ 1 2 3  i like it  '"
      ]
     },
     "execution_count": 183,
     "metadata": {},
     "output_type": "execute_result"
    }
   ],
   "source": [
    "my_str.lstrip()"
   ]
  },
  {
   "cell_type": "code",
   "execution_count": 185,
   "id": "af6998c4-17b9-44a4-9ed9-be16c8d3a820",
   "metadata": {},
   "outputs": [
    {
     "data": {
      "text/plain": [
       "'   PYTHON is NICE: % ^ @ 1 2 3  I LIKE IT  '"
      ]
     },
     "execution_count": 185,
     "metadata": {},
     "output_type": "execute_result"
    }
   ],
   "source": [
    "my_str.swapcase()"
   ]
  },
  {
   "cell_type": "code",
   "execution_count": 187,
   "id": "d635f74e-151c-465b-b281-71c05a5dea2e",
   "metadata": {},
   "outputs": [
    {
     "data": {
      "text/plain": [
       "'   Python Is Nice: % ^ @ 1 2 3  I Like It  '"
      ]
     },
     "execution_count": 187,
     "metadata": {},
     "output_type": "execute_result"
    }
   ],
   "source": [
    "my_str.title()"
   ]
  },
  {
   "cell_type": "markdown",
   "id": "b7e1ba8f-de2d-41d3-8774-1d0528aadb16",
   "metadata": {},
   "source": [
    "### List"
   ]
  },
  {
   "cell_type": "code",
   "execution_count": 192,
   "id": "3a150782-1c5d-4a21-9bc1-afd877e0abc2",
   "metadata": {},
   "outputs": [],
   "source": [
    "my_list = [1,2,3,4,5,\"a\",\"b\",\"c\",\"d\",\"e\"]"
   ]
  },
  {
   "cell_type": "code",
   "execution_count": 194,
   "id": "4968e416-103e-4c8e-9c4b-012d94056434",
   "metadata": {},
   "outputs": [
    {
     "data": {
      "text/plain": [
       "list"
      ]
     },
     "execution_count": 194,
     "metadata": {},
     "output_type": "execute_result"
    }
   ],
   "source": [
    "type(my_list)"
   ]
  },
  {
   "cell_type": "code",
   "execution_count": 196,
   "id": "cfc49b4b-eb3f-4aba-a449-705fbffaccd3",
   "metadata": {},
   "outputs": [
    {
     "data": {
      "text/plain": [
       "'e'"
      ]
     },
     "execution_count": 196,
     "metadata": {},
     "output_type": "execute_result"
    }
   ],
   "source": [
    "my_list.pop() #removes from last"
   ]
  },
  {
   "cell_type": "code",
   "execution_count": 198,
   "id": "8a1e45dd-28dc-4413-8a43-d0e4c0b4efee",
   "metadata": {},
   "outputs": [
    {
     "data": {
      "text/plain": [
       "[1, 2, 3, 4, 5, 'a', 'b', 'c', 'd']"
      ]
     },
     "execution_count": 198,
     "metadata": {},
     "output_type": "execute_result"
    }
   ],
   "source": [
    "my_list"
   ]
  },
  {
   "cell_type": "code",
   "execution_count": 200,
   "id": "0311946e-fc6d-4e36-8fd4-10606def01d9",
   "metadata": {},
   "outputs": [
    {
     "data": {
      "text/plain": [
       "5"
      ]
     },
     "execution_count": 200,
     "metadata": {},
     "output_type": "execute_result"
    }
   ],
   "source": [
    "my_list.index(\"a\")"
   ]
  },
  {
   "cell_type": "code",
   "execution_count": 202,
   "id": "b7bba650-57e8-46a0-83b9-1dbd261dad79",
   "metadata": {},
   "outputs": [],
   "source": [
    "my_list.append(\"tiya\")"
   ]
  },
  {
   "cell_type": "code",
   "execution_count": 204,
   "id": "cbb6b6da-e6ba-419d-8ee8-59e00d9b63f5",
   "metadata": {},
   "outputs": [
    {
     "data": {
      "text/plain": [
       "[1, 2, 3, 4, 5, 'a', 'b', 'c', 'd', 'tiya']"
      ]
     },
     "execution_count": 204,
     "metadata": {},
     "output_type": "execute_result"
    }
   ],
   "source": [
    "my_list"
   ]
  },
  {
   "cell_type": "code",
   "execution_count": 206,
   "id": "93f4f3a8-81e0-435d-87f7-b67065ac1886",
   "metadata": {},
   "outputs": [],
   "source": [
    "my_list.extend([\"jack\",\"charli\",\"julia\"])"
   ]
  },
  {
   "cell_type": "code",
   "execution_count": 208,
   "id": "6f092c61-80a5-4c26-a354-b9d5efc87ae7",
   "metadata": {},
   "outputs": [
    {
     "data": {
      "text/plain": [
       "[1, 2, 3, 4, 5, 'a', 'b', 'c', 'd', 'tiya', 'jack', 'charli', 'julia']"
      ]
     },
     "execution_count": 208,
     "metadata": {},
     "output_type": "execute_result"
    }
   ],
   "source": [
    "my_list"
   ]
  },
  {
   "cell_type": "code",
   "execution_count": 210,
   "id": "61746a0e-466e-4944-b184-a8ffd621d995",
   "metadata": {},
   "outputs": [],
   "source": [
    "my_list.remove(\"tiya\")"
   ]
  },
  {
   "cell_type": "code",
   "execution_count": 212,
   "id": "1060c7de-686b-4851-9472-6f79f285f72f",
   "metadata": {},
   "outputs": [
    {
     "data": {
      "text/plain": [
       "[1, 2, 3, 4, 5, 'a', 'b', 'c', 'd', 'jack', 'charli', 'julia']"
      ]
     },
     "execution_count": 212,
     "metadata": {},
     "output_type": "execute_result"
    }
   ],
   "source": [
    "my_list"
   ]
  },
  {
   "cell_type": "markdown",
   "id": "60b5a010-c8df-40e0-be32-bb9aec99eaa9",
   "metadata": {},
   "source": [
    "### dictionary"
   ]
  },
  {
   "cell_type": "code",
   "execution_count": 215,
   "id": "21ef1ef3-e690-4ec7-908f-2d50340e5e53",
   "metadata": {},
   "outputs": [],
   "source": [
    "my_dict= {\n",
    "    \"jan\":\"julia\",\n",
    "    \"feb\":\"charli\",\n",
    "    \"mar\":\"drew\",\n",
    "    \"apr\":\"jon\"\n",
    "}\n",
    "\n",
    "'''\n",
    "{\n",
    "\"firstname\": \"charli\",\n",
    "\"lastname\":\"benet\",\n",
    "\"age\":9,\n",
    "\"schools\":[\"abc primary school\",\"def secondary school\",\"klm high school\"],\n",
    "\"grades\":{\"abc primary school\":{\"first grade\":{\"english calss\":90,\"math class\":100}}}\n",
    "}\n",
    "'''\n",
    "\n"
   ]
  },
  {
   "cell_type": "code",
   "execution_count": null,
   "id": "75153596-175d-4fdc-a147-42b344bb4671",
   "metadata": {},
   "outputs": [],
   "source": []
  },
  {
   "cell_type": "code",
   "execution_count": null,
   "id": "6f68fe79-75de-4c24-9ce8-1dc3c979cee7",
   "metadata": {},
   "outputs": [],
   "source": []
  },
  {
   "cell_type": "code",
   "execution_count": null,
   "id": "dd2ca575-4e8a-48da-bfe8-cce2a6e830b9",
   "metadata": {},
   "outputs": [],
   "source": []
  },
  {
   "cell_type": "code",
   "execution_count": null,
   "id": "6e32600c-f30b-41d0-8afe-77cdda1cb871",
   "metadata": {},
   "outputs": [],
   "source": []
  },
  {
   "cell_type": "code",
   "execution_count": null,
   "id": "a5290641-da15-4e96-92de-33f6597dd84d",
   "metadata": {},
   "outputs": [],
   "source": []
  },
  {
   "cell_type": "markdown",
   "id": "dd2fedf3-627c-458d-b6e4-2af0fe703d37",
   "metadata": {},
   "source": []
  },
  {
   "cell_type": "code",
   "execution_count": 217,
   "id": "941550cb-c291-477c-b870-7264a3d870b5",
   "metadata": {},
   "outputs": [
    {
     "data": {
      "text/plain": [
       "dict"
      ]
     },
     "execution_count": 217,
     "metadata": {},
     "output_type": "execute_result"
    }
   ],
   "source": [
    "type(my_dict)"
   ]
  },
  {
   "cell_type": "code",
   "execution_count": null,
   "id": "f50f9d7b-ad75-47df-941f-dfb05984a86f",
   "metadata": {},
   "outputs": [],
   "source": [
    "'''{\n",
    "\"firstname\": \"charli\",\n",
    "\"lastname\":\"benet\",\n",
    "\"age\":9,\n",
    "\"schools\":[\"abc primary school\",\"def secondary school\",\"klm high school\"],\n",
    "\"grades\":\n",
    "    [   #list inside dict\n",
    "    {\"abc primary school\":\n",
    "          {\"first grade\":{\"english calss\":90,\n",
    "                          \"math class\":100\n",
    "                         }\n",
    "          }\n",
    "    },\n",
    "    {\"def secondary school\":\n",
    "     {\"fifth grade\":\n",
    "      {\"english class\":70\n",
    "      }\n",
    "     }\n",
    "    }\n",
    "]\n",
    "    \n",
    "}\n",
    "'''\n",
    "\n"
   ]
  },
  {
   "cell_type": "code",
   "execution_count": 219,
   "id": "f45275a8-000c-487d-a0e9-863ef06bc7ca",
   "metadata": {},
   "outputs": [
    {
     "data": {
      "text/plain": [
       "dict_keys(['jan', 'feb', 'mar', 'apr'])"
      ]
     },
     "execution_count": 219,
     "metadata": {},
     "output_type": "execute_result"
    }
   ],
   "source": [
    "my_dict.keys()"
   ]
  },
  {
   "cell_type": "code",
   "execution_count": 221,
   "id": "2f429f44-8b96-4b28-bc77-7aa39044d5f9",
   "metadata": {},
   "outputs": [
    {
     "data": {
      "text/plain": [
       "dict_values(['julia', 'charli', 'drew', 'jon'])"
      ]
     },
     "execution_count": 221,
     "metadata": {},
     "output_type": "execute_result"
    }
   ],
   "source": [
    "my_dict.values() #returns values and keys in a list"
   ]
  },
  {
   "cell_type": "code",
   "execution_count": 223,
   "id": "78bb3d99-ea61-4a5c-84fd-6f9ea5359b2d",
   "metadata": {},
   "outputs": [
    {
     "data": {
      "text/plain": [
       "dict_items([('jan', 'julia'), ('feb', 'charli'), ('mar', 'drew'), ('apr', 'jon')])"
      ]
     },
     "execution_count": 223,
     "metadata": {},
     "output_type": "execute_result"
    }
   ],
   "source": [
    "my_dict.items()"
   ]
  },
  {
   "cell_type": "code",
   "execution_count": 225,
   "id": "37799cd9-d435-4ca9-9268-4e58b12277bd",
   "metadata": {},
   "outputs": [
    {
     "data": {
      "text/plain": [
       "'jon'"
      ]
     },
     "execution_count": 225,
     "metadata": {},
     "output_type": "execute_result"
    }
   ],
   "source": [
    "my_dict[\"apr\"] #returns value [ ]"
   ]
  },
  {
   "cell_type": "markdown",
   "id": "ff23a1cc-c622-4a8a-954a-524425d67570",
   "metadata": {},
   "source": [
    "### for loop"
   ]
  },
  {
   "cell_type": "code",
   "execution_count": null,
   "id": "b18c3260-a945-4c05-b833-66bab14cdb04",
   "metadata": {},
   "outputs": [],
   "source": []
  },
  {
   "cell_type": "code",
   "execution_count": 231,
   "id": "a5fddd65-7c01-4fd0-b27b-f676f816be86",
   "metadata": {},
   "outputs": [
    {
     "data": {
      "text/plain": [
       "range(0, 5)"
      ]
     },
     "execution_count": 231,
     "metadata": {},
     "output_type": "execute_result"
    }
   ],
   "source": [
    "range(5)"
   ]
  },
  {
   "cell_type": "code",
   "execution_count": 233,
   "id": "23271f44-38ae-4752-a864-d25f1d12ab59",
   "metadata": {},
   "outputs": [
    {
     "data": {
      "text/plain": [
       "[0, 1, 2, 3, 4]"
      ]
     },
     "execution_count": 233,
     "metadata": {},
     "output_type": "execute_result"
    }
   ],
   "source": [
    "list(range(5))"
   ]
  },
  {
   "cell_type": "code",
   "execution_count": 235,
   "id": "b6d41356-f01c-481a-9ab6-692b0c58c2f6",
   "metadata": {},
   "outputs": [
    {
     "name": "stdout",
     "output_type": "stream",
     "text": [
      "0\n",
      "1\n",
      "2\n",
      "3\n",
      "4\n"
     ]
    }
   ],
   "source": [
    "for x in range(5):\n",
    "    print(x)"
   ]
  },
  {
   "cell_type": "code",
   "execution_count": 238,
   "id": "d5bb78cf-12b0-4dbe-be72-d45b133a4474",
   "metadata": {},
   "outputs": [
    {
     "name": "stdout",
     "output_type": "stream",
     "text": [
      "d\n",
      "a\n",
      "l\n",
      "l\n",
      "a\n",
      "s\n"
     ]
    }
   ],
   "source": [
    "city = \"dallas\"\n",
    "\n",
    "for x in city:\n",
    "    print(x)"
   ]
  },
  {
   "cell_type": "markdown",
   "id": "69f7ca20-2bad-41dc-9d65-ec2026ed9ad6",
   "metadata": {},
   "source": [
    "### if else"
   ]
  },
  {
   "cell_type": "code",
   "execution_count": 241,
   "id": "3c742e6d-a11b-4e3b-b535-8d77cc7d1a63",
   "metadata": {},
   "outputs": [
    {
     "data": {
      "text/plain": [
       "'\\n\\nif some conditon:\\nsomecode\\nelseif some other condition:\\nsome more code\\nelse:\\nsome more more code\\n\\n'"
      ]
     },
     "execution_count": 241,
     "metadata": {},
     "output_type": "execute_result"
    }
   ],
   "source": [
    "\"\"\"\n",
    "\n",
    "if some conditon:\n",
    "somecode\n",
    "elseif some other condition:\n",
    "some more code\n",
    "else:\n",
    "some more more code\n",
    "\n",
    "\"\"\"\n",
    "\n"
   ]
  },
  {
   "cell_type": "code",
   "execution_count": 263,
   "id": "b3fc55db-9423-4c9a-b0c2-7521baa4a8a7",
   "metadata": {},
   "outputs": [
    {
     "name": "stdout",
     "output_type": "stream",
     "text": [
      "yeah,x is 1\n"
     ]
    }
   ],
   "source": [
    "x = 1\n",
    "y =10\n",
    "if x ==1: \n",
    "    print(\"yeah,x is 1\")"
   ]
  },
  {
   "cell_type": "code",
   "execution_count": 267,
   "id": "19e86e30-c387-4fb5-a4cd-a029f0cac86b",
   "metadata": {},
   "outputs": [
    {
     "ename": "SyntaxError",
     "evalue": "invalid syntax (598346666.py, line 3)",
     "output_type": "error",
     "traceback": [
      "\u001b[0;36m  Cell \u001b[0;32mIn[267], line 3\u001b[0;36m\u001b[0m\n\u001b[0;31m    elsif y == 10:\u001b[0m\n\u001b[0m          ^\u001b[0m\n\u001b[0;31mSyntaxError\u001b[0m\u001b[0;31m:\u001b[0m invalid syntax\n"
     ]
    }
   ],
   "source": [
    "if x == 7:\n",
    "    print(\"yeah,x is 1\")\n",
    "    elsif y == 10:\n",
    "    print(\"your is 10\")\n",
    "    "
   ]
  },
  {
   "cell_type": "code",
   "execution_count": 253,
   "id": "4ea20596-cc1c-4134-a673-be8f12aec7ad",
   "metadata": {},
   "outputs": [
    {
     "ename": "SyntaxError",
     "evalue": "invalid syntax (3755682249.py, line 3)",
     "output_type": "error",
     "traceback": [
      "\u001b[0;36m  Cell \u001b[0;32mIn[253], line 3\u001b[0;36m\u001b[0m\n\u001b[0;31m    elsif y<11:\u001b[0m\n\u001b[0m          ^\u001b[0m\n\u001b[0;31mSyntaxError\u001b[0m\u001b[0;31m:\u001b[0m invalid syntax\n"
     ]
    }
   ],
   "source": [
    "if x>7:\n",
    "    print(\"yeah,x is 1\")\n",
    "    elsif y<11:\n",
    "    print(\"your is 10\")\n",
    "else:\n",
    "    print(\"all failed,i am here now\")"
   ]
  },
  {
   "cell_type": "code",
   "execution_count": null,
   "id": "732b96eb-5cf5-40a8-b16e-5d2b3c26e43a",
   "metadata": {},
   "outputs": [],
   "source": [
    "if x>7:\n",
    "    print(\"yeah,x is 1\")\n",
    "    elsif y<11:\n",
    "    print(\"your is 10\")\n",
    "else:\n",
    "    print(\"all failed,i am here now\")\n",
    "\n",
    "\n",
    "    "
   ]
  }
 ],
 "metadata": {
  "kernelspec": {
   "display_name": "Python [conda env:base] *",
   "language": "python",
   "name": "conda-base-py"
  },
  "language_info": {
   "codemirror_mode": {
    "name": "ipython",
    "version": 3
   },
   "file_extension": ".py",
   "mimetype": "text/x-python",
   "name": "python",
   "nbconvert_exporter": "python",
   "pygments_lexer": "ipython3",
   "version": "3.12.7"
  }
 },
 "nbformat": 4,
 "nbformat_minor": 5
}
